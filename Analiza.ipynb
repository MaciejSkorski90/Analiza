{
 "cells": [
  {
   "cell_type": "code",
   "execution_count": 1,
   "id": "cb76b412-8a06-4e31-a4d2-ddf2a6e80f29",
   "metadata": {},
   "outputs": [],
   "source": [
    "import pandas as pd\n",
    "import numpy as np"
   ]
  },
  {
   "cell_type": "code",
   "execution_count": 2,
   "id": "8a853156-24d0-46c7-a2e7-6420e980d8f3",
   "metadata": {},
   "outputs": [],
   "source": [
    "# Ścieżka do pliku CSV\n",
    "sciezka_customer_orders = r'C:\\Users\\MS\\Desktop\\D\\zadanie domowe Analityk\\customer_orders.csv'\n",
    "sciezka_customers_zip = r'C:\\Users\\MS\\Desktop\\D\\zadanie domowe Analityk\\customers_zip.csv'\n",
    "sciezka_delivery_zip = r'C:\\Users\\MS\\Desktop\\D\\zadanie domowe Analityk\\delivery_zip.csv'\n",
    "sciezka_orders = r'C:\\Users\\MS\\Desktop\\D\\zadanie domowe Analityk\\orders.csv'\n",
    "sciezka_sports = r'C:\\Users\\MS\\Desktop\\D\\zadanie domowe Analityk\\sports.csv'\n",
    "\n",
    "# Importowanie pliku CSV do data frame'a\n",
    "customer_orders = pd.read_csv(sciezka_customer_orders)\n",
    "customers_zip = pd.read_csv(sciezka_customers_zip)\n",
    "delivery_zip = pd.read_csv(sciezka_delivery_zip)\n",
    "orders = pd.read_csv(sciezka_orders)\n",
    "sports = pd.read_csv(sciezka_sports)"
   ]
  },
  {
   "cell_type": "code",
   "execution_count": 3,
   "id": "6a8e4a98-3af1-4dc4-bb32-bbb69311b09d",
   "metadata": {},
   "outputs": [
    {
     "data": {
      "text/html": [
       "<div>\n",
       "<style scoped>\n",
       "    .dataframe tbody tr th:only-of-type {\n",
       "        vertical-align: middle;\n",
       "    }\n",
       "\n",
       "    .dataframe tbody tr th {\n",
       "        vertical-align: top;\n",
       "    }\n",
       "\n",
       "    .dataframe thead th {\n",
       "        text-align: right;\n",
       "    }\n",
       "</style>\n",
       "<table border=\"1\" class=\"dataframe\">\n",
       "  <thead>\n",
       "    <tr style=\"text-align: right;\">\n",
       "      <th></th>\n",
       "      <th>customer_id</th>\n",
       "      <th>order_id</th>\n",
       "    </tr>\n",
       "  </thead>\n",
       "  <tbody>\n",
       "    <tr>\n",
       "      <th>0</th>\n",
       "      <td>77461851.0</td>\n",
       "      <td>82168832.0</td>\n",
       "    </tr>\n",
       "    <tr>\n",
       "      <th>1</th>\n",
       "      <td>37934116.0</td>\n",
       "      <td>38300086.0</td>\n",
       "    </tr>\n",
       "    <tr>\n",
       "      <th>2</th>\n",
       "      <td>39770481.0</td>\n",
       "      <td>70629629.0</td>\n",
       "    </tr>\n",
       "    <tr>\n",
       "      <th>3</th>\n",
       "      <td>50298765.0</td>\n",
       "      <td>81244871.0</td>\n",
       "    </tr>\n",
       "    <tr>\n",
       "      <th>4</th>\n",
       "      <td>23383753.0</td>\n",
       "      <td>88005542.0</td>\n",
       "    </tr>\n",
       "    <tr>\n",
       "      <th>...</th>\n",
       "      <td>...</td>\n",
       "      <td>...</td>\n",
       "    </tr>\n",
       "    <tr>\n",
       "      <th>4003959</th>\n",
       "      <td>22997615.0</td>\n",
       "      <td>76578060.0</td>\n",
       "    </tr>\n",
       "    <tr>\n",
       "      <th>4003960</th>\n",
       "      <td>52840571.0</td>\n",
       "      <td>48208738.0</td>\n",
       "    </tr>\n",
       "    <tr>\n",
       "      <th>4003961</th>\n",
       "      <td>52840571.0</td>\n",
       "      <td>11830182.0</td>\n",
       "    </tr>\n",
       "    <tr>\n",
       "      <th>4003962</th>\n",
       "      <td>52840571.0</td>\n",
       "      <td>73524810.0</td>\n",
       "    </tr>\n",
       "    <tr>\n",
       "      <th>4003963</th>\n",
       "      <td>NaN</td>\n",
       "      <td>NaN</td>\n",
       "    </tr>\n",
       "  </tbody>\n",
       "</table>\n",
       "<p>4003964 rows × 2 columns</p>\n",
       "</div>"
      ],
      "text/plain": [
       "         customer_id    order_id\n",
       "0         77461851.0  82168832.0\n",
       "1         37934116.0  38300086.0\n",
       "2         39770481.0  70629629.0\n",
       "3         50298765.0  81244871.0\n",
       "4         23383753.0  88005542.0\n",
       "...              ...         ...\n",
       "4003959   22997615.0  76578060.0\n",
       "4003960   52840571.0  48208738.0\n",
       "4003961   52840571.0  11830182.0\n",
       "4003962   52840571.0  73524810.0\n",
       "4003963          NaN         NaN\n",
       "\n",
       "[4003964 rows x 2 columns]"
      ]
     },
     "execution_count": 3,
     "metadata": {},
     "output_type": "execute_result"
    }
   ],
   "source": [
    "customer_orders = customer_orders.iloc[:,-2:]\n",
    "customer_orders"
   ]
  },
  {
   "cell_type": "code",
   "execution_count": 4,
   "id": "eae4f1b5-66e3-4aaf-a270-73be7aae4a21",
   "metadata": {},
   "outputs": [
    {
     "data": {
      "text/html": [
       "<div>\n",
       "<style scoped>\n",
       "    .dataframe tbody tr th:only-of-type {\n",
       "        vertical-align: middle;\n",
       "    }\n",
       "\n",
       "    .dataframe tbody tr th {\n",
       "        vertical-align: top;\n",
       "    }\n",
       "\n",
       "    .dataframe thead th {\n",
       "        text-align: right;\n",
       "    }\n",
       "</style>\n",
       "<table border=\"1\" class=\"dataframe\">\n",
       "  <thead>\n",
       "    <tr style=\"text-align: right;\">\n",
       "      <th></th>\n",
       "      <th>customer_id</th>\n",
       "      <th>zip_cust</th>\n",
       "    </tr>\n",
       "  </thead>\n",
       "  <tbody>\n",
       "    <tr>\n",
       "      <th>0</th>\n",
       "      <td>77461851.0</td>\n",
       "      <td>39435.0</td>\n",
       "    </tr>\n",
       "    <tr>\n",
       "      <th>1</th>\n",
       "      <td>37934116.0</td>\n",
       "      <td>92635.0</td>\n",
       "    </tr>\n",
       "    <tr>\n",
       "      <th>2</th>\n",
       "      <td>39770481.0</td>\n",
       "      <td>61090.0</td>\n",
       "    </tr>\n",
       "    <tr>\n",
       "      <th>3</th>\n",
       "      <td>50298765.0</td>\n",
       "      <td>40516.0</td>\n",
       "    </tr>\n",
       "    <tr>\n",
       "      <th>4</th>\n",
       "      <td>23383753.0</td>\n",
       "      <td>85367.0</td>\n",
       "    </tr>\n",
       "    <tr>\n",
       "      <th>...</th>\n",
       "      <td>...</td>\n",
       "      <td>...</td>\n",
       "    </tr>\n",
       "    <tr>\n",
       "      <th>1064030</th>\n",
       "      <td>7614400.0</td>\n",
       "      <td>37754.0</td>\n",
       "    </tr>\n",
       "    <tr>\n",
       "      <th>1064031</th>\n",
       "      <td>38064713.0</td>\n",
       "      <td>40550.0</td>\n",
       "    </tr>\n",
       "    <tr>\n",
       "      <th>1064032</th>\n",
       "      <td>55151857.0</td>\n",
       "      <td>27493.0</td>\n",
       "    </tr>\n",
       "    <tr>\n",
       "      <th>1064033</th>\n",
       "      <td>72477424.0</td>\n",
       "      <td>91501.0</td>\n",
       "    </tr>\n",
       "    <tr>\n",
       "      <th>1064034</th>\n",
       "      <td>34343239.0</td>\n",
       "      <td>16103.0</td>\n",
       "    </tr>\n",
       "  </tbody>\n",
       "</table>\n",
       "<p>1064035 rows × 2 columns</p>\n",
       "</div>"
      ],
      "text/plain": [
       "         customer_id  zip_cust\n",
       "0         77461851.0   39435.0\n",
       "1         37934116.0   92635.0\n",
       "2         39770481.0   61090.0\n",
       "3         50298765.0   40516.0\n",
       "4         23383753.0   85367.0\n",
       "...              ...       ...\n",
       "1064030    7614400.0   37754.0\n",
       "1064031   38064713.0   40550.0\n",
       "1064032   55151857.0   27493.0\n",
       "1064033   72477424.0   91501.0\n",
       "1064034   34343239.0   16103.0\n",
       "\n",
       "[1064035 rows x 2 columns]"
      ]
     },
     "execution_count": 4,
     "metadata": {},
     "output_type": "execute_result"
    }
   ],
   "source": [
    "customers_zip = customers_zip.iloc[:,-2:]\n",
    "customers_zip"
   ]
  },
  {
   "cell_type": "code",
   "execution_count": 5,
   "id": "c555765e-4a03-4490-90dd-756f31455618",
   "metadata": {},
   "outputs": [
    {
     "data": {
      "text/html": [
       "<div>\n",
       "<style scoped>\n",
       "    .dataframe tbody tr th:only-of-type {\n",
       "        vertical-align: middle;\n",
       "    }\n",
       "\n",
       "    .dataframe tbody tr th {\n",
       "        vertical-align: top;\n",
       "    }\n",
       "\n",
       "    .dataframe thead th {\n",
       "        text-align: right;\n",
       "    }\n",
       "</style>\n",
       "<table border=\"1\" class=\"dataframe\">\n",
       "  <thead>\n",
       "    <tr style=\"text-align: right;\">\n",
       "      <th></th>\n",
       "      <th>customer_id</th>\n",
       "      <th>zip_del</th>\n",
       "    </tr>\n",
       "  </thead>\n",
       "  <tbody>\n",
       "    <tr>\n",
       "      <th>0</th>\n",
       "      <td>77461851.0</td>\n",
       "      <td>55685.0</td>\n",
       "    </tr>\n",
       "    <tr>\n",
       "      <th>1</th>\n",
       "      <td>37934116.0</td>\n",
       "      <td>36236.0</td>\n",
       "    </tr>\n",
       "    <tr>\n",
       "      <th>2</th>\n",
       "      <td>39770481.0</td>\n",
       "      <td>NaN</td>\n",
       "    </tr>\n",
       "    <tr>\n",
       "      <th>3</th>\n",
       "      <td>50298765.0</td>\n",
       "      <td>78823.0</td>\n",
       "    </tr>\n",
       "    <tr>\n",
       "      <th>4</th>\n",
       "      <td>23383753.0</td>\n",
       "      <td>75757.0</td>\n",
       "    </tr>\n",
       "    <tr>\n",
       "      <th>...</th>\n",
       "      <td>...</td>\n",
       "      <td>...</td>\n",
       "    </tr>\n",
       "    <tr>\n",
       "      <th>1701447</th>\n",
       "      <td>22997615.0</td>\n",
       "      <td>18863.0</td>\n",
       "    </tr>\n",
       "    <tr>\n",
       "      <th>1701448</th>\n",
       "      <td>22997615.0</td>\n",
       "      <td>22874.0</td>\n",
       "    </tr>\n",
       "    <tr>\n",
       "      <th>1701449</th>\n",
       "      <td>52840571.0</td>\n",
       "      <td>56465.0</td>\n",
       "    </tr>\n",
       "    <tr>\n",
       "      <th>1701450</th>\n",
       "      <td>52840571.0</td>\n",
       "      <td>56162.0</td>\n",
       "    </tr>\n",
       "    <tr>\n",
       "      <th>1701451</th>\n",
       "      <td>NaN</td>\n",
       "      <td>NaN</td>\n",
       "    </tr>\n",
       "  </tbody>\n",
       "</table>\n",
       "<p>1701452 rows × 2 columns</p>\n",
       "</div>"
      ],
      "text/plain": [
       "         customer_id  zip_del\n",
       "0         77461851.0  55685.0\n",
       "1         37934116.0  36236.0\n",
       "2         39770481.0      NaN\n",
       "3         50298765.0  78823.0\n",
       "4         23383753.0  75757.0\n",
       "...              ...      ...\n",
       "1701447   22997615.0  18863.0\n",
       "1701448   22997615.0  22874.0\n",
       "1701449   52840571.0  56465.0\n",
       "1701450   52840571.0  56162.0\n",
       "1701451          NaN      NaN\n",
       "\n",
       "[1701452 rows x 2 columns]"
      ]
     },
     "execution_count": 5,
     "metadata": {},
     "output_type": "execute_result"
    }
   ],
   "source": [
    "delivery_zip = delivery_zip.iloc[:,-2:]\n",
    "delivery_zip"
   ]
  },
  {
   "cell_type": "code",
   "execution_count": 6,
   "id": "cb7eb773-fc6d-43fb-8c29-6485f2263b8d",
   "metadata": {},
   "outputs": [
    {
     "data": {
      "text/html": [
       "<div>\n",
       "<style scoped>\n",
       "    .dataframe tbody tr th:only-of-type {\n",
       "        vertical-align: middle;\n",
       "    }\n",
       "\n",
       "    .dataframe tbody tr th {\n",
       "        vertical-align: top;\n",
       "    }\n",
       "\n",
       "    .dataframe thead th {\n",
       "        text-align: right;\n",
       "    }\n",
       "</style>\n",
       "<table border=\"1\" class=\"dataframe\">\n",
       "  <thead>\n",
       "    <tr style=\"text-align: right;\">\n",
       "      <th></th>\n",
       "      <th>order_id</th>\n",
       "      <th>value</th>\n",
       "    </tr>\n",
       "  </thead>\n",
       "  <tbody>\n",
       "    <tr>\n",
       "      <th>0</th>\n",
       "      <td>82168832.0</td>\n",
       "      <td>240.29</td>\n",
       "    </tr>\n",
       "    <tr>\n",
       "      <th>1</th>\n",
       "      <td>38300086.0</td>\n",
       "      <td>730.12</td>\n",
       "    </tr>\n",
       "    <tr>\n",
       "      <th>2</th>\n",
       "      <td>70629629.0</td>\n",
       "      <td>145.04</td>\n",
       "    </tr>\n",
       "    <tr>\n",
       "      <th>3</th>\n",
       "      <td>81244871.0</td>\n",
       "      <td>472.24</td>\n",
       "    </tr>\n",
       "    <tr>\n",
       "      <th>4</th>\n",
       "      <td>88005542.0</td>\n",
       "      <td>354.54</td>\n",
       "    </tr>\n",
       "    <tr>\n",
       "      <th>...</th>\n",
       "      <td>...</td>\n",
       "      <td>...</td>\n",
       "    </tr>\n",
       "    <tr>\n",
       "      <th>4003977</th>\n",
       "      <td>46861536.0</td>\n",
       "      <td>220.30</td>\n",
       "    </tr>\n",
       "    <tr>\n",
       "      <th>4003978</th>\n",
       "      <td>73308696.0</td>\n",
       "      <td>208.33</td>\n",
       "    </tr>\n",
       "    <tr>\n",
       "      <th>4003979</th>\n",
       "      <td>80131863.0</td>\n",
       "      <td>628.98</td>\n",
       "    </tr>\n",
       "    <tr>\n",
       "      <th>4003980</th>\n",
       "      <td>82066694.0</td>\n",
       "      <td>139.71</td>\n",
       "    </tr>\n",
       "    <tr>\n",
       "      <th>4003981</th>\n",
       "      <td>76207670.0</td>\n",
       "      <td>726.36</td>\n",
       "    </tr>\n",
       "  </tbody>\n",
       "</table>\n",
       "<p>4003982 rows × 2 columns</p>\n",
       "</div>"
      ],
      "text/plain": [
       "           order_id   value\n",
       "0        82168832.0  240.29\n",
       "1        38300086.0  730.12\n",
       "2        70629629.0  145.04\n",
       "3        81244871.0  472.24\n",
       "4        88005542.0  354.54\n",
       "...             ...     ...\n",
       "4003977  46861536.0  220.30\n",
       "4003978  73308696.0  208.33\n",
       "4003979  80131863.0  628.98\n",
       "4003980  82066694.0  139.71\n",
       "4003981  76207670.0  726.36\n",
       "\n",
       "[4003982 rows x 2 columns]"
      ]
     },
     "execution_count": 6,
     "metadata": {},
     "output_type": "execute_result"
    }
   ],
   "source": [
    "orders = orders.iloc[:,-2:]\n",
    "orders"
   ]
  },
  {
   "cell_type": "code",
   "execution_count": 7,
   "id": "98997a3c-a2fe-48cc-9144-422a074ccd1f",
   "metadata": {},
   "outputs": [
    {
     "data": {
      "text/html": [
       "<div>\n",
       "<style scoped>\n",
       "    .dataframe tbody tr th:only-of-type {\n",
       "        vertical-align: middle;\n",
       "    }\n",
       "\n",
       "    .dataframe tbody tr th {\n",
       "        vertical-align: top;\n",
       "    }\n",
       "\n",
       "    .dataframe thead th {\n",
       "        text-align: right;\n",
       "    }\n",
       "</style>\n",
       "<table border=\"1\" class=\"dataframe\">\n",
       "  <thead>\n",
       "    <tr style=\"text-align: right;\">\n",
       "      <th></th>\n",
       "      <th>customer_id</th>\n",
       "      <th>sport</th>\n",
       "    </tr>\n",
       "  </thead>\n",
       "  <tbody>\n",
       "    <tr>\n",
       "      <th>0</th>\n",
       "      <td>77461851.0</td>\n",
       "      <td>p3ywanie</td>\n",
       "    </tr>\n",
       "    <tr>\n",
       "      <th>1</th>\n",
       "      <td>37934116.0</td>\n",
       "      <td>myolistwo</td>\n",
       "    </tr>\n",
       "    <tr>\n",
       "      <th>2</th>\n",
       "      <td>39770481.0</td>\n",
       "      <td>3ucznictwo</td>\n",
       "    </tr>\n",
       "    <tr>\n",
       "      <th>3</th>\n",
       "      <td>50298765.0</td>\n",
       "      <td>nurkowanie</td>\n",
       "    </tr>\n",
       "    <tr>\n",
       "      <th>4</th>\n",
       "      <td>23383753.0</td>\n",
       "      <td>3ucznictwo</td>\n",
       "    </tr>\n",
       "    <tr>\n",
       "      <th>...</th>\n",
       "      <td>...</td>\n",
       "      <td>...</td>\n",
       "    </tr>\n",
       "    <tr>\n",
       "      <th>1189742</th>\n",
       "      <td>70183840.0</td>\n",
       "      <td>nurkowanie</td>\n",
       "    </tr>\n",
       "    <tr>\n",
       "      <th>1189743</th>\n",
       "      <td>39250750.0</td>\n",
       "      <td>jeYdziectwo</td>\n",
       "    </tr>\n",
       "    <tr>\n",
       "      <th>1189744</th>\n",
       "      <td>22997615.0</td>\n",
       "      <td>myolistwo</td>\n",
       "    </tr>\n",
       "    <tr>\n",
       "      <th>1189745</th>\n",
       "      <td>52840571.0</td>\n",
       "      <td>nurkowanie</td>\n",
       "    </tr>\n",
       "    <tr>\n",
       "      <th>1189746</th>\n",
       "      <td>NaN</td>\n",
       "      <td>NaN</td>\n",
       "    </tr>\n",
       "  </tbody>\n",
       "</table>\n",
       "<p>1189747 rows × 2 columns</p>\n",
       "</div>"
      ],
      "text/plain": [
       "         customer_id        sport\n",
       "0         77461851.0     p3ywanie\n",
       "1         37934116.0    myolistwo\n",
       "2         39770481.0   3ucznictwo\n",
       "3         50298765.0   nurkowanie\n",
       "4         23383753.0   3ucznictwo\n",
       "...              ...          ...\n",
       "1189742   70183840.0   nurkowanie\n",
       "1189743   39250750.0  jeYdziectwo\n",
       "1189744   22997615.0    myolistwo\n",
       "1189745   52840571.0   nurkowanie\n",
       "1189746          NaN          NaN\n",
       "\n",
       "[1189747 rows x 2 columns]"
      ]
     },
     "execution_count": 7,
     "metadata": {},
     "output_type": "execute_result"
    }
   ],
   "source": [
    "sports = sports.iloc[:,-2:]\n",
    "sports"
   ]
  },
  {
   "cell_type": "markdown",
   "id": "211c37e2-f3fd-4d73-9d80-20debf9c0e8e",
   "metadata": {},
   "source": [
    "##**Jaki odsetek klientów odbiera swoje zamówienia pod innym kodem pocztowym niż mieszka?**"
   ]
  },
  {
   "cell_type": "code",
   "execution_count": 8,
   "id": "a0ade81b-477b-4f9a-b340-b899cac1fde0",
   "metadata": {},
   "outputs": [],
   "source": [
    "# Połączenie ramek danych na podstawie customer_id\n",
    "merged_data = pd.merge(customer_orders, customers_zip, on=\"customer_id\")\n",
    "merged_data = pd.merge(merged_data, delivery_zip, on=\"customer_id\")"
   ]
  },
  {
   "cell_type": "code",
   "execution_count": 9,
   "id": "189eeb52-329f-42ad-a951-2910a42a2d0d",
   "metadata": {},
   "outputs": [],
   "source": [
    "# Obliczenie liczby klientów o różnych kodach pocztowych dostawy i zamieszkania\n",
    "different_zips = merged_data[merged_data[\"zip_cust\"] != merged_data[\"zip_del\"]]"
   ]
  },
  {
   "cell_type": "code",
   "execution_count": 10,
   "id": "a002a13d-a9e8-41a3-a8d0-9d2c2d6d1942",
   "metadata": {},
   "outputs": [],
   "source": [
    "# Obliczenie odsetka klientów o różnych kodach pocztowych dostawy i zamieszkania\n",
    "odsetek = (len(different_zips) / len(merged_data)) * 100"
   ]
  },
  {
   "cell_type": "code",
   "execution_count": 11,
   "id": "f170c04f-b8a6-45b3-b891-40fa433741f0",
   "metadata": {},
   "outputs": [
    {
     "name": "stdout",
     "output_type": "stream",
     "text": [
      "Odsetek klientów odbierających zamówienia pod innym kodem pocztowym niż mieszkają: 56.74%\n"
     ]
    }
   ],
   "source": [
    "print(f\"Odsetek klientów odbierających zamówienia pod innym kodem pocztowym niż mieszkają: {odsetek:.2f}%\")"
   ]
  },
  {
   "cell_type": "markdown",
   "id": "0e441e36-4ce0-4f4b-9c78-eb29a7e0a4d8",
   "metadata": {},
   "source": [
    "##**Jaki sport jest najbardziej i najmniej popularny wśród klientów?**"
   ]
  },
  {
   "cell_type": "code",
   "execution_count": 12,
   "id": "7b20bbae-a2a2-4081-9de1-40aeecd8f191",
   "metadata": {},
   "outputs": [],
   "source": [
    "# Połączenie ramki danych sports z customer_orders na podstawie customer_id\n",
    "merged_data = pd.merge(sports, customer_orders, on=\"customer_id\")"
   ]
  },
  {
   "cell_type": "code",
   "execution_count": 13,
   "id": "56f2cc6e-964e-40c4-aa56-cffc57b6ffec",
   "metadata": {},
   "outputs": [],
   "source": [
    "# Liczenie liczby wystąpień każdego sportu\n",
    "popularnosc_sportow = merged_data[\"sport\"].value_counts()"
   ]
  },
  {
   "cell_type": "code",
   "execution_count": 14,
   "id": "5a8728ac-0894-4267-b0c5-3f1c6b7ff8cf",
   "metadata": {},
   "outputs": [],
   "source": [
    "# Najbardziej popularny sport\n",
    "najbardziej_popularny_sport = popularnosc_sportow.idxmax()\n",
    "najbardziej_popularna_ilosc = popularnosc_sportow.max()"
   ]
  },
  {
   "cell_type": "code",
   "execution_count": 15,
   "id": "39399b1b-9496-45fa-8b44-dac22d20402e",
   "metadata": {},
   "outputs": [],
   "source": [
    "# Najmniej popularny sport\n",
    "najmniej_popularny_sport = popularnosc_sportow.idxmin()\n",
    "najmniej_popularna_ilosc = popularnosc_sportow.min()"
   ]
  },
  {
   "cell_type": "code",
   "execution_count": 16,
   "id": "6e835ae9-8a7a-4be9-93c7-6a26413204eb",
   "metadata": {},
   "outputs": [
    {
     "name": "stdout",
     "output_type": "stream",
     "text": [
      "Najbardziej popularny sport to: p3ywanie (ilość: 1037735 klientów)\n",
      "Najmniej popularny sport to: myslistwo (ilość: 40983 klientów)\n"
     ]
    }
   ],
   "source": [
    "print(f\"Najbardziej popularny sport to: {najbardziej_popularny_sport} (ilość: {najbardziej_popularna_ilosc} klientów)\")\n",
    "print(f\"Najmniej popularny sport to: {najmniej_popularny_sport} (ilość: {najmniej_popularna_ilosc} klientów)\")"
   ]
  },
  {
   "cell_type": "markdown",
   "id": "34af7820-45b0-4b19-90fb-d965c27abbc0",
   "metadata": {},
   "source": [
    "##**Ilu klientów uprawia więcej niż 2 sporty?**"
   ]
  },
  {
   "cell_type": "code",
   "execution_count": 17,
   "id": "dfbf379a-413b-4049-97bb-c686fecbb8da",
   "metadata": {},
   "outputs": [],
   "source": [
    "# Liczenie liczby sportów dla każdego klienta\n",
    "liczba_sportow = sports.groupby('customer_id').size()"
   ]
  },
  {
   "cell_type": "code",
   "execution_count": 18,
   "id": "c06819f1-16a5-4295-8435-3083e581bbe6",
   "metadata": {},
   "outputs": [],
   "source": [
    "# Liczenie liczby klientów, którzy uprawiają więcej niż dwa sporty\n",
    "wiecej_niz_dwa_sporty = liczba_sportow[liczba_sportow > 2].count()"
   ]
  },
  {
   "cell_type": "code",
   "execution_count": 19,
   "id": "7dc3aa3e-0e17-42fe-8b7d-809361e68558",
   "metadata": {},
   "outputs": [
    {
     "name": "stdout",
     "output_type": "stream",
     "text": [
      "Ilu klientów uprawia więcej niż 2 sporty: 5040\n"
     ]
    }
   ],
   "source": [
    "print(f\"Ilu klientów uprawia więcej niż 2 sporty: {wiecej_niz_dwa_sporty}\")"
   ]
  },
  {
   "cell_type": "markdown",
   "id": "498db383-5aa1-43d7-9003-70d4d821b717",
   "metadata": {},
   "source": [
    "##**Jaka jest średnia wartość zamówienia?**"
   ]
  },
  {
   "cell_type": "code",
   "execution_count": 20,
   "id": "2bdefe41-2086-4dca-8c6c-1f1eef2ebbc7",
   "metadata": {},
   "outputs": [],
   "source": [
    "# Obliczenie średniej wartości zamówienia\n",
    "srednia_wartosc_zamowienia = orders['value'].mean().round(2)"
   ]
  },
  {
   "cell_type": "code",
   "execution_count": 21,
   "id": "437ae74f-e9a8-4201-926e-a51c679cc7d6",
   "metadata": {},
   "outputs": [
    {
     "name": "stdout",
     "output_type": "stream",
     "text": [
      "Średnia wartość zamówienia wynosi: 25396.01\n"
     ]
    }
   ],
   "source": [
    "print(f\"Średnia wartość zamówienia wynosi: {srednia_wartosc_zamowienia}\")"
   ]
  },
  {
   "cell_type": "markdown",
   "id": "314bf942-4688-49fa-97ec-7e0997f0dadc",
   "metadata": {},
   "source": [
    "##**Jaka jest średnia wartość zamówienia klientów uprawiających jeździectwo?**"
   ]
  },
  {
   "cell_type": "code",
   "execution_count": 22,
   "id": "7ad317e8-3af1-428b-91f0-2649996400e1",
   "metadata": {},
   "outputs": [],
   "source": [
    "# Połączenie ramki danych sports z customer_orders na podstawie customer_id\n",
    "merged_data = pd.merge(sports, customer_orders, on=\"customer_id\")"
   ]
  },
  {
   "cell_type": "code",
   "execution_count": 23,
   "id": "3ca01f56-2ea4-4ba3-ad8b-3c8d1d90909c",
   "metadata": {},
   "outputs": [],
   "source": [
    "# Wybór tylko tych klientów, którzy uprawiają jeździectwo\n",
    "jezdziectwo = merged_data[merged_data[\"sport\"] == \"jeYdziectwo\"]"
   ]
  },
  {
   "cell_type": "code",
   "execution_count": 24,
   "id": "1295bed9-309b-44c2-bb17-c095fabecaad",
   "metadata": {},
   "outputs": [],
   "source": [
    "# Połączenie ramki danych jezdziectwo z orders na podstawie order_id\n",
    "merged_data_2 = pd.merge(jezdziectwo, orders, on=\"order_id\")"
   ]
  },
  {
   "cell_type": "code",
   "execution_count": 25,
   "id": "6b46b698-1280-462c-ab30-bfc905283d27",
   "metadata": {},
   "outputs": [],
   "source": [
    "# Obliczenie średniej wartości zamówienia dla klientów uprawiających jeździectwo\n",
    "srednia_wartosc_jezdziectwo = merged_data_2[\"value\"].mean().round(2)"
   ]
  },
  {
   "cell_type": "code",
   "execution_count": 26,
   "id": "6429e63e-c047-45f9-875c-a4761db4413d",
   "metadata": {},
   "outputs": [
    {
     "name": "stdout",
     "output_type": "stream",
     "text": [
      "Średnia wartość zamówienia klientów uprawiających jeździectwo wynosi: 26017.4\n"
     ]
    }
   ],
   "source": [
    "print(f\"Średnia wartość zamówienia klientów uprawiających jeździectwo wynosi: {srednia_wartosc_jezdziectwo}\")"
   ]
  },
  {
   "cell_type": "code",
   "execution_count": null,
   "id": "e059b55b-98af-4de5-88f0-4c8c308a565b",
   "metadata": {},
   "outputs": [],
   "source": []
  }
 ],
 "metadata": {
  "kernelspec": {
   "display_name": "Python 3 (ipykernel)",
   "language": "python",
   "name": "python3"
  },
  "language_info": {
   "codemirror_mode": {
    "name": "ipython",
    "version": 3
   },
   "file_extension": ".py",
   "mimetype": "text/x-python",
   "name": "python",
   "nbconvert_exporter": "python",
   "pygments_lexer": "ipython3",
   "version": "3.11.7"
  }
 },
 "nbformat": 4,
 "nbformat_minor": 5
}
